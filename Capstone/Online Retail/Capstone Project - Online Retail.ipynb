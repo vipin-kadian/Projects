{
 "cells": [
  {
   "cell_type": "markdown",
   "id": "9b220fca",
   "metadata": {},
   "source": [
    "# Capstone Project - Project OnlineRetail"
   ]
  },
  {
   "cell_type": "markdown",
   "id": "cda9da32",
   "metadata": {},
   "source": [
    "# Table of Contents"
   ]
  },
  {
   "cell_type": "markdown",
   "id": "74ddc19c",
   "metadata": {},
   "source": [
    "1. Problem Statement\n",
    "2. Project Objective\n",
    "3. Data Description\n",
    "4. Data Pre-processing Steps and Inspiration\n",
    "5. Choosing the Algorithm for the Project\n",
    "6. Motivation and Reasons For Choosing the Algorithm\n",
    "7. Assumptions\n",
    "8. Model Evaluation and Techniques\n",
    "9. Inferences from the Same\n",
    "10. Future Possibilities of the Project\n",
    "11. Conclusion\n",
    "12. References"
   ]
  },
  {
   "cell_type": "markdown",
   "id": "722dd59b",
   "metadata": {},
   "source": [
    "# Problem Statement"
   ]
  },
  {
   "cell_type": "markdown",
   "id": "f8911403",
   "metadata": {},
   "source": [
    "An online retail store is trying to identify Customer Segmentation or Market Segmentation. This will enable firm to understand the various customer purchase patterns for their firm."
   ]
  },
  {
   "cell_type": "markdown",
   "id": "0287b66c",
   "metadata": {},
   "source": [
    "# Data Description"
   ]
  },
  {
   "cell_type": "markdown",
   "id": "c1e2c877",
   "metadata": {},
   "source": [
    "This Online Retail II data set contains all the transactions occurring for a UK-based and registered, non-store online retail.The company mainly sells unique all-occasion gift-ware. Many customers of the company are wholesalers."
   ]
  },
  {
   "cell_type": "markdown",
   "id": "9db37376",
   "metadata": {},
   "source": [
    "InvoiceNo: Invoice number. Nominal. A 6-digit integral number uniquely assigned to each transaction. If this code starts with the letter 'c', it indicates a cancellation.\n",
    "\n",
    "StockCode: Product (item) code. Nominal. A 5-digit integral number uniquely assigned to each distinct product.\n",
    "\n",
    "Description: Product (item) name. Nominal.\n",
    "\n",
    "Quantity: The quantities of each product (item) per transaction. Numeric.\n",
    "\n",
    "InvoiceDate: Invice date and time. Numeric. The day and time when a transaction was generated.\n",
    "\n",
    "UnitPrice: Unit price. Numeric. Product price per unit in sterling (Â£).\n",
    "\n",
    "CustomerID: Customer number. Nominal. A 5-digit integral number uniquely assigned to each customer.\n",
    "\n",
    "Country: Country name. Nominal. The name of the country where a customer resides."
   ]
  },
  {
   "cell_type": "code",
   "execution_count": 1,
   "id": "a79c8be9",
   "metadata": {},
   "outputs": [],
   "source": [
    "import numpy as np\n",
    "import pandas as pd\n",
    "import matplotlib.pyplot as plt\n",
    "import seaborn as sns\n",
    "from datetime import datetime, date"
   ]
  },
  {
   "cell_type": "code",
   "execution_count": 2,
   "id": "3f0f0ff7",
   "metadata": {},
   "outputs": [],
   "source": [
    "df = pd.read_csv('OnlineRetail_capstone.csv', encoding='latin1')"
   ]
  },
  {
   "cell_type": "code",
   "execution_count": 3,
   "id": "9199a3c7",
   "metadata": {},
   "outputs": [
    {
     "data": {
      "text/html": [
       "<div>\n",
       "<style scoped>\n",
       "    .dataframe tbody tr th:only-of-type {\n",
       "        vertical-align: middle;\n",
       "    }\n",
       "\n",
       "    .dataframe tbody tr th {\n",
       "        vertical-align: top;\n",
       "    }\n",
       "\n",
       "    .dataframe thead th {\n",
       "        text-align: right;\n",
       "    }\n",
       "</style>\n",
       "<table border=\"1\" class=\"dataframe\">\n",
       "  <thead>\n",
       "    <tr style=\"text-align: right;\">\n",
       "      <th></th>\n",
       "      <th>InvoiceNo</th>\n",
       "      <th>StockCode</th>\n",
       "      <th>Description</th>\n",
       "      <th>Quantity</th>\n",
       "      <th>InvoiceDate</th>\n",
       "      <th>UnitPrice</th>\n",
       "      <th>CustomerID</th>\n",
       "      <th>Country</th>\n",
       "    </tr>\n",
       "  </thead>\n",
       "  <tbody>\n",
       "    <tr>\n",
       "      <th>0</th>\n",
       "      <td>536365</td>\n",
       "      <td>85123A</td>\n",
       "      <td>WHITE HANGING HEART T-LIGHT HOLDER</td>\n",
       "      <td>6</td>\n",
       "      <td>12/1/2010 8:26</td>\n",
       "      <td>2.55</td>\n",
       "      <td>17850.0</td>\n",
       "      <td>United Kingdom</td>\n",
       "    </tr>\n",
       "    <tr>\n",
       "      <th>1</th>\n",
       "      <td>536365</td>\n",
       "      <td>71053</td>\n",
       "      <td>WHITE METAL LANTERN</td>\n",
       "      <td>6</td>\n",
       "      <td>12/1/2010 8:26</td>\n",
       "      <td>3.39</td>\n",
       "      <td>17850.0</td>\n",
       "      <td>United Kingdom</td>\n",
       "    </tr>\n",
       "    <tr>\n",
       "      <th>2</th>\n",
       "      <td>536365</td>\n",
       "      <td>84406B</td>\n",
       "      <td>CREAM CUPID HEARTS COAT HANGER</td>\n",
       "      <td>8</td>\n",
       "      <td>12/1/2010 8:26</td>\n",
       "      <td>2.75</td>\n",
       "      <td>17850.0</td>\n",
       "      <td>United Kingdom</td>\n",
       "    </tr>\n",
       "    <tr>\n",
       "      <th>3</th>\n",
       "      <td>536365</td>\n",
       "      <td>84029G</td>\n",
       "      <td>KNITTED UNION FLAG HOT WATER BOTTLE</td>\n",
       "      <td>6</td>\n",
       "      <td>12/1/2010 8:26</td>\n",
       "      <td>3.39</td>\n",
       "      <td>17850.0</td>\n",
       "      <td>United Kingdom</td>\n",
       "    </tr>\n",
       "    <tr>\n",
       "      <th>4</th>\n",
       "      <td>536365</td>\n",
       "      <td>84029E</td>\n",
       "      <td>RED WOOLLY HOTTIE WHITE HEART.</td>\n",
       "      <td>6</td>\n",
       "      <td>12/1/2010 8:26</td>\n",
       "      <td>3.39</td>\n",
       "      <td>17850.0</td>\n",
       "      <td>United Kingdom</td>\n",
       "    </tr>\n",
       "  </tbody>\n",
       "</table>\n",
       "</div>"
      ],
      "text/plain": [
       "  InvoiceNo StockCode                          Description  Quantity  \\\n",
       "0    536365    85123A   WHITE HANGING HEART T-LIGHT HOLDER         6   \n",
       "1    536365     71053                  WHITE METAL LANTERN         6   \n",
       "2    536365    84406B       CREAM CUPID HEARTS COAT HANGER         8   \n",
       "3    536365    84029G  KNITTED UNION FLAG HOT WATER BOTTLE         6   \n",
       "4    536365    84029E       RED WOOLLY HOTTIE WHITE HEART.         6   \n",
       "\n",
       "      InvoiceDate  UnitPrice  CustomerID         Country  \n",
       "0  12/1/2010 8:26       2.55     17850.0  United Kingdom  \n",
       "1  12/1/2010 8:26       3.39     17850.0  United Kingdom  \n",
       "2  12/1/2010 8:26       2.75     17850.0  United Kingdom  \n",
       "3  12/1/2010 8:26       3.39     17850.0  United Kingdom  \n",
       "4  12/1/2010 8:26       3.39     17850.0  United Kingdom  "
      ]
     },
     "execution_count": 3,
     "metadata": {},
     "output_type": "execute_result"
    }
   ],
   "source": [
    "df.head()"
   ]
  },
  {
   "cell_type": "code",
   "execution_count": 4,
   "id": "09fce3ec",
   "metadata": {},
   "outputs": [
    {
     "data": {
      "text/plain": [
       "InvoiceNo       object\n",
       "StockCode       object\n",
       "Description     object\n",
       "Quantity         int64\n",
       "InvoiceDate     object\n",
       "UnitPrice      float64\n",
       "CustomerID     float64\n",
       "Country         object\n",
       "dtype: object"
      ]
     },
     "execution_count": 4,
     "metadata": {},
     "output_type": "execute_result"
    }
   ],
   "source": [
    "df.dtypes"
   ]
  },
  {
   "cell_type": "code",
   "execution_count": 5,
   "id": "148f5b06",
   "metadata": {},
   "outputs": [
    {
     "data": {
      "text/html": [
       "<div>\n",
       "<style scoped>\n",
       "    .dataframe tbody tr th:only-of-type {\n",
       "        vertical-align: middle;\n",
       "    }\n",
       "\n",
       "    .dataframe tbody tr th {\n",
       "        vertical-align: top;\n",
       "    }\n",
       "\n",
       "    .dataframe thead th {\n",
       "        text-align: right;\n",
       "    }\n",
       "</style>\n",
       "<table border=\"1\" class=\"dataframe\">\n",
       "  <thead>\n",
       "    <tr style=\"text-align: right;\">\n",
       "      <th></th>\n",
       "      <th>Quantity</th>\n",
       "      <th>UnitPrice</th>\n",
       "      <th>CustomerID</th>\n",
       "    </tr>\n",
       "  </thead>\n",
       "  <tbody>\n",
       "    <tr>\n",
       "      <th>count</th>\n",
       "      <td>541909.000000</td>\n",
       "      <td>541909.000000</td>\n",
       "      <td>406829.000000</td>\n",
       "    </tr>\n",
       "    <tr>\n",
       "      <th>mean</th>\n",
       "      <td>9.552250</td>\n",
       "      <td>4.611114</td>\n",
       "      <td>15287.690570</td>\n",
       "    </tr>\n",
       "    <tr>\n",
       "      <th>std</th>\n",
       "      <td>218.081158</td>\n",
       "      <td>96.759853</td>\n",
       "      <td>1713.600303</td>\n",
       "    </tr>\n",
       "    <tr>\n",
       "      <th>min</th>\n",
       "      <td>-80995.000000</td>\n",
       "      <td>-11062.060000</td>\n",
       "      <td>12346.000000</td>\n",
       "    </tr>\n",
       "    <tr>\n",
       "      <th>25%</th>\n",
       "      <td>1.000000</td>\n",
       "      <td>1.250000</td>\n",
       "      <td>13953.000000</td>\n",
       "    </tr>\n",
       "    <tr>\n",
       "      <th>50%</th>\n",
       "      <td>3.000000</td>\n",
       "      <td>2.080000</td>\n",
       "      <td>15152.000000</td>\n",
       "    </tr>\n",
       "    <tr>\n",
       "      <th>75%</th>\n",
       "      <td>10.000000</td>\n",
       "      <td>4.130000</td>\n",
       "      <td>16791.000000</td>\n",
       "    </tr>\n",
       "    <tr>\n",
       "      <th>max</th>\n",
       "      <td>80995.000000</td>\n",
       "      <td>38970.000000</td>\n",
       "      <td>18287.000000</td>\n",
       "    </tr>\n",
       "  </tbody>\n",
       "</table>\n",
       "</div>"
      ],
      "text/plain": [
       "            Quantity      UnitPrice     CustomerID\n",
       "count  541909.000000  541909.000000  406829.000000\n",
       "mean        9.552250       4.611114   15287.690570\n",
       "std       218.081158      96.759853    1713.600303\n",
       "min    -80995.000000  -11062.060000   12346.000000\n",
       "25%         1.000000       1.250000   13953.000000\n",
       "50%         3.000000       2.080000   15152.000000\n",
       "75%        10.000000       4.130000   16791.000000\n",
       "max     80995.000000   38970.000000   18287.000000"
      ]
     },
     "execution_count": 5,
     "metadata": {},
     "output_type": "execute_result"
    }
   ],
   "source": [
    "df.describe()"
   ]
  },
  {
   "cell_type": "markdown",
   "id": "2734dceb",
   "metadata": {},
   "source": [
    "By using the df.describe() function we came to know that our minimum quantity is in negative and we all know that a quantity will never be in Negative. So, in subsequent steps we have to remove this redundancy in order to get better accuracy because redundancy can cause miss grouping of data.We will take this up as part of Data Pre-processing"
   ]
  },
  {
   "cell_type": "markdown",
   "id": "30c45d04",
   "metadata": {},
   "source": [
    "# Data Pre-processing Steps and Inspiration"
   ]
  },
  {
   "cell_type": "markdown",
   "id": "0c72f032",
   "metadata": {},
   "source": [
    "Rearranging columns"
   ]
  },
  {
   "cell_type": "code",
   "execution_count": 6,
   "id": "2338020f",
   "metadata": {},
   "outputs": [],
   "source": [
    "df = df[['CustomerID','InvoiceNo','StockCode','Description','Quantity','UnitPrice','InvoiceDate','Country']]"
   ]
  },
  {
   "cell_type": "code",
   "execution_count": 7,
   "id": "f131720a",
   "metadata": {},
   "outputs": [
    {
     "name": "stdout",
     "output_type": "stream",
     "text": [
      "Index(['CustomerID', 'InvoiceNo', 'StockCode', 'Description', 'Quantity',\n",
      "       'UnitPrice', 'InvoiceDate', 'Country'],\n",
      "      dtype='object')\n",
      "RangeIndex(start=0, stop=541909, step=1)\n"
     ]
    }
   ],
   "source": [
    "print(df.columns)\n",
    "print(df.index)"
   ]
  },
  {
   "cell_type": "code",
   "execution_count": 8,
   "id": "e5e8be8a",
   "metadata": {},
   "outputs": [
    {
     "data": {
      "text/html": [
       "<div>\n",
       "<style scoped>\n",
       "    .dataframe tbody tr th:only-of-type {\n",
       "        vertical-align: middle;\n",
       "    }\n",
       "\n",
       "    .dataframe tbody tr th {\n",
       "        vertical-align: top;\n",
       "    }\n",
       "\n",
       "    .dataframe thead th {\n",
       "        text-align: right;\n",
       "    }\n",
       "</style>\n",
       "<table border=\"1\" class=\"dataframe\">\n",
       "  <thead>\n",
       "    <tr style=\"text-align: right;\">\n",
       "      <th></th>\n",
       "      <th>CustomerID</th>\n",
       "      <th>InvoiceNo</th>\n",
       "      <th>StockCode</th>\n",
       "      <th>Description</th>\n",
       "      <th>Quantity</th>\n",
       "      <th>UnitPrice</th>\n",
       "      <th>InvoiceDate</th>\n",
       "      <th>Country</th>\n",
       "    </tr>\n",
       "  </thead>\n",
       "  <tbody>\n",
       "    <tr>\n",
       "      <th>0</th>\n",
       "      <td>17850.0</td>\n",
       "      <td>536365</td>\n",
       "      <td>85123A</td>\n",
       "      <td>WHITE HANGING HEART T-LIGHT HOLDER</td>\n",
       "      <td>6</td>\n",
       "      <td>2.55</td>\n",
       "      <td>12/1/2010 8:26</td>\n",
       "      <td>United Kingdom</td>\n",
       "    </tr>\n",
       "    <tr>\n",
       "      <th>1</th>\n",
       "      <td>17850.0</td>\n",
       "      <td>536365</td>\n",
       "      <td>71053</td>\n",
       "      <td>WHITE METAL LANTERN</td>\n",
       "      <td>6</td>\n",
       "      <td>3.39</td>\n",
       "      <td>12/1/2010 8:26</td>\n",
       "      <td>United Kingdom</td>\n",
       "    </tr>\n",
       "    <tr>\n",
       "      <th>2</th>\n",
       "      <td>17850.0</td>\n",
       "      <td>536365</td>\n",
       "      <td>84406B</td>\n",
       "      <td>CREAM CUPID HEARTS COAT HANGER</td>\n",
       "      <td>8</td>\n",
       "      <td>2.75</td>\n",
       "      <td>12/1/2010 8:26</td>\n",
       "      <td>United Kingdom</td>\n",
       "    </tr>\n",
       "    <tr>\n",
       "      <th>3</th>\n",
       "      <td>17850.0</td>\n",
       "      <td>536365</td>\n",
       "      <td>84029G</td>\n",
       "      <td>KNITTED UNION FLAG HOT WATER BOTTLE</td>\n",
       "      <td>6</td>\n",
       "      <td>3.39</td>\n",
       "      <td>12/1/2010 8:26</td>\n",
       "      <td>United Kingdom</td>\n",
       "    </tr>\n",
       "    <tr>\n",
       "      <th>4</th>\n",
       "      <td>17850.0</td>\n",
       "      <td>536365</td>\n",
       "      <td>84029E</td>\n",
       "      <td>RED WOOLLY HOTTIE WHITE HEART.</td>\n",
       "      <td>6</td>\n",
       "      <td>3.39</td>\n",
       "      <td>12/1/2010 8:26</td>\n",
       "      <td>United Kingdom</td>\n",
       "    </tr>\n",
       "  </tbody>\n",
       "</table>\n",
       "</div>"
      ],
      "text/plain": [
       "   CustomerID InvoiceNo StockCode                          Description  \\\n",
       "0     17850.0    536365    85123A   WHITE HANGING HEART T-LIGHT HOLDER   \n",
       "1     17850.0    536365     71053                  WHITE METAL LANTERN   \n",
       "2     17850.0    536365    84406B       CREAM CUPID HEARTS COAT HANGER   \n",
       "3     17850.0    536365    84029G  KNITTED UNION FLAG HOT WATER BOTTLE   \n",
       "4     17850.0    536365    84029E       RED WOOLLY HOTTIE WHITE HEART.   \n",
       "\n",
       "   Quantity  UnitPrice     InvoiceDate         Country  \n",
       "0         6       2.55  12/1/2010 8:26  United Kingdom  \n",
       "1         6       3.39  12/1/2010 8:26  United Kingdom  \n",
       "2         8       2.75  12/1/2010 8:26  United Kingdom  \n",
       "3         6       3.39  12/1/2010 8:26  United Kingdom  \n",
       "4         6       3.39  12/1/2010 8:26  United Kingdom  "
      ]
     },
     "execution_count": 8,
     "metadata": {},
     "output_type": "execute_result"
    }
   ],
   "source": [
    "df.head()"
   ]
  },
  {
   "cell_type": "code",
   "execution_count": 9,
   "id": "789b6301",
   "metadata": {},
   "outputs": [
    {
     "name": "stdout",
     "output_type": "stream",
     "text": [
      "<class 'pandas.core.frame.DataFrame'>\n",
      "RangeIndex: 541909 entries, 0 to 541908\n",
      "Data columns (total 8 columns):\n",
      " #   Column       Non-Null Count   Dtype  \n",
      "---  ------       --------------   -----  \n",
      " 0   CustomerID   406829 non-null  float64\n",
      " 1   InvoiceNo    541909 non-null  object \n",
      " 2   StockCode    541909 non-null  object \n",
      " 3   Description  540455 non-null  object \n",
      " 4   Quantity     541909 non-null  int64  \n",
      " 5   UnitPrice    541909 non-null  float64\n",
      " 6   InvoiceDate  541909 non-null  object \n",
      " 7   Country      541909 non-null  object \n",
      "dtypes: float64(2), int64(1), object(5)\n",
      "memory usage: 33.1+ MB\n"
     ]
    }
   ],
   "source": [
    "df.info()"
   ]
  },
  {
   "cell_type": "code",
   "execution_count": 10,
   "id": "610a64da",
   "metadata": {},
   "outputs": [
    {
     "data": {
      "text/plain": [
       "CustomerID     135080\n",
       "InvoiceNo           0\n",
       "StockCode           0\n",
       "Description      1454\n",
       "Quantity            0\n",
       "UnitPrice           0\n",
       "InvoiceDate         0\n",
       "Country             0\n",
       "dtype: int64"
      ]
     },
     "execution_count": 10,
     "metadata": {},
     "output_type": "execute_result"
    }
   ],
   "source": [
    "df.isnull().sum()"
   ]
  },
  {
   "cell_type": "markdown",
   "id": "9567b7eb",
   "metadata": {},
   "source": [
    "Here, Invoice date is object type. We will convert this into datetime for calculating all the values. Further, we are addressing negative value of Qunatity and Unitprice. "
   ]
  },
  {
   "cell_type": "code",
   "execution_count": 11,
   "id": "22076e76",
   "metadata": {},
   "outputs": [
    {
     "data": {
      "text/html": [
       "<div>\n",
       "<style scoped>\n",
       "    .dataframe tbody tr th:only-of-type {\n",
       "        vertical-align: middle;\n",
       "    }\n",
       "\n",
       "    .dataframe tbody tr th {\n",
       "        vertical-align: top;\n",
       "    }\n",
       "\n",
       "    .dataframe thead th {\n",
       "        text-align: right;\n",
       "    }\n",
       "</style>\n",
       "<table border=\"1\" class=\"dataframe\">\n",
       "  <thead>\n",
       "    <tr style=\"text-align: right;\">\n",
       "      <th></th>\n",
       "      <th>Quantity</th>\n",
       "      <th>UnitPrice</th>\n",
       "    </tr>\n",
       "  </thead>\n",
       "  <tbody>\n",
       "    <tr>\n",
       "      <th>count</th>\n",
       "      <td>530104.000000</td>\n",
       "      <td>530104.000000</td>\n",
       "    </tr>\n",
       "    <tr>\n",
       "      <th>mean</th>\n",
       "      <td>10.542037</td>\n",
       "      <td>3.907625</td>\n",
       "    </tr>\n",
       "    <tr>\n",
       "      <th>std</th>\n",
       "      <td>155.524124</td>\n",
       "      <td>35.915681</td>\n",
       "    </tr>\n",
       "    <tr>\n",
       "      <th>min</th>\n",
       "      <td>1.000000</td>\n",
       "      <td>0.001000</td>\n",
       "    </tr>\n",
       "    <tr>\n",
       "      <th>25%</th>\n",
       "      <td>1.000000</td>\n",
       "      <td>1.250000</td>\n",
       "    </tr>\n",
       "    <tr>\n",
       "      <th>50%</th>\n",
       "      <td>3.000000</td>\n",
       "      <td>2.080000</td>\n",
       "    </tr>\n",
       "    <tr>\n",
       "      <th>75%</th>\n",
       "      <td>10.000000</td>\n",
       "      <td>4.130000</td>\n",
       "    </tr>\n",
       "    <tr>\n",
       "      <th>max</th>\n",
       "      <td>80995.000000</td>\n",
       "      <td>13541.330000</td>\n",
       "    </tr>\n",
       "  </tbody>\n",
       "</table>\n",
       "</div>"
      ],
      "text/plain": [
       "            Quantity      UnitPrice\n",
       "count  530104.000000  530104.000000\n",
       "mean       10.542037       3.907625\n",
       "std       155.524124      35.915681\n",
       "min         1.000000       0.001000\n",
       "25%         1.000000       1.250000\n",
       "50%         3.000000       2.080000\n",
       "75%        10.000000       4.130000\n",
       "max     80995.000000   13541.330000"
      ]
     },
     "execution_count": 11,
     "metadata": {},
     "output_type": "execute_result"
    }
   ],
   "source": [
    "df['CustomerID'] = df.CustomerID.astype('str')\n",
    "df['InvoiceDate'] = pd.to_datetime(df['InvoiceDate'])\n",
    "df.dropna(subset=['CustomerID'])\n",
    "df = df[(df.Quantity>0) & (df.UnitPrice>0)]\n",
    "ref = df.copy()\n",
    "df.describe()"
   ]
  },
  {
   "cell_type": "code",
   "execution_count": 12,
   "id": "d49d3e67",
   "metadata": {},
   "outputs": [
    {
     "name": "stdout",
     "output_type": "stream",
     "text": [
      "<class 'pandas.core.frame.DataFrame'>\n",
      "Int64Index: 530104 entries, 0 to 541908\n",
      "Data columns (total 8 columns):\n",
      " #   Column       Non-Null Count   Dtype         \n",
      "---  ------       --------------   -----         \n",
      " 0   CustomerID   530104 non-null  object        \n",
      " 1   InvoiceNo    530104 non-null  object        \n",
      " 2   StockCode    530104 non-null  object        \n",
      " 3   Description  530104 non-null  object        \n",
      " 4   Quantity     530104 non-null  int64         \n",
      " 5   UnitPrice    530104 non-null  float64       \n",
      " 6   InvoiceDate  530104 non-null  datetime64[ns]\n",
      " 7   Country      530104 non-null  object        \n",
      "dtypes: datetime64[ns](1), float64(1), int64(1), object(5)\n",
      "memory usage: 36.4+ MB\n"
     ]
    }
   ],
   "source": [
    "df.info()"
   ]
  },
  {
   "cell_type": "code",
   "execution_count": 13,
   "id": "5a9ea2b2",
   "metadata": {},
   "outputs": [
    {
     "name": "stdout",
     "output_type": "stream",
     "text": [
      "<class 'pandas.core.frame.DataFrame'>\n",
      "Int64Index: 530104 entries, 0 to 541908\n",
      "Data columns (total 8 columns):\n",
      " #   Column       Non-Null Count   Dtype         \n",
      "---  ------       --------------   -----         \n",
      " 0   CustomerID   530104 non-null  object        \n",
      " 1   InvoiceNo    530104 non-null  object        \n",
      " 2   StockCode    530104 non-null  object        \n",
      " 3   Description  530104 non-null  object        \n",
      " 4   Quantity     530104 non-null  int64         \n",
      " 5   UnitPrice    530104 non-null  float64       \n",
      " 6   InvoiceDate  530104 non-null  datetime64[ns]\n",
      " 7   Country      530104 non-null  object        \n",
      "dtypes: datetime64[ns](1), float64(1), int64(1), object(5)\n",
      "memory usage: 36.4+ MB\n"
     ]
    }
   ],
   "source": [
    "ref.info()"
   ]
  },
  {
   "cell_type": "code",
   "execution_count": 14,
   "id": "b074b5af",
   "metadata": {},
   "outputs": [
    {
     "data": {
      "text/plain": [
       "(530104, 8)"
      ]
     },
     "execution_count": 14,
     "metadata": {},
     "output_type": "execute_result"
    }
   ],
   "source": [
    "df.shape"
   ]
  },
  {
   "cell_type": "code",
   "execution_count": 15,
   "id": "9b5ce3e9",
   "metadata": {},
   "outputs": [
    {
     "name": "stderr",
     "output_type": "stream",
     "text": [
      "C:\\Users\\Admin\\AppData\\Local\\Temp/ipykernel_14080/2240799462.py:1: FutureWarning: Treating datetime data as categorical rather than numeric in `.describe` is deprecated and will be removed in a future version of pandas. Specify `datetime_is_numeric=True` to silence this warning and adopt the future behavior now.\n",
      "  ref.InvoiceDate.describe()\n"
     ]
    },
    {
     "data": {
      "text/plain": [
       "count                  530104\n",
       "unique                  18499\n",
       "top       2011-10-31 14:41:00\n",
       "freq                     1114\n",
       "first     2010-12-01 08:26:00\n",
       "last      2011-12-09 12:50:00\n",
       "Name: InvoiceDate, dtype: object"
      ]
     },
     "execution_count": 15,
     "metadata": {},
     "output_type": "execute_result"
    }
   ],
   "source": [
    "ref.InvoiceDate.describe()"
   ]
  },
  {
   "cell_type": "code",
   "execution_count": 16,
   "id": "cac4a000",
   "metadata": {},
   "outputs": [
    {
     "data": {
      "text/plain": [
       "38"
      ]
     },
     "execution_count": 16,
     "metadata": {},
     "output_type": "execute_result"
    }
   ],
   "source": [
    "ref.Country.nunique()"
   ]
  },
  {
   "cell_type": "markdown",
   "id": "f5f8437b",
   "metadata": {},
   "source": [
    "Lets analyze the sales performance of this company"
   ]
  },
  {
   "cell_type": "markdown",
   "id": "43235e45",
   "metadata": {},
   "source": [
    "Here , we calculate Monetary Value i.e Total price i.e Here we are getting our monetary value by grouping customer with their customer id and total no. of sales.\n"
   ]
  },
  {
   "cell_type": "code",
   "execution_count": 17,
   "id": "ddf69add",
   "metadata": {},
   "outputs": [],
   "source": [
    "ref['totalprice'] = ref['Quantity']*ref['UnitPrice']\n",
    "ref['Year'] =  pd.DatetimeIndex(ref['InvoiceDate']).year\n",
    "ref['month'] = pd.DatetimeIndex(ref['InvoiceDate']).month"
   ]
  },
  {
   "cell_type": "code",
   "execution_count": 18,
   "id": "ada565b0",
   "metadata": {},
   "outputs": [
    {
     "data": {
      "image/png": "[encoded data removed]",
      "text/plain": [
       "<Figure size 432x288 with 1 Axes>"
      ]
     },
     "metadata": {
      "needs_background": "light"
     },
     "output_type": "display_data"
    }
   ],
   "source": [
    "ref.groupby(['Year','month']).InvoiceNo.count().plot(kind='bar',title='total monthly invoice')\n",
    "plt.show()"
   ]
  },
  {
   "cell_type": "markdown",
   "id": "48423673",
   "metadata": {},
   "source": [
    "lets find total number of customers and their distribution"
   ]
  },
  {
   "cell_type": "code",
   "execution_count": 19,
   "id": "0178bf89",
   "metadata": {},
   "outputs": [
    {
     "data": {
      "image/png": "[encoded data removed]",
      "text/plain": [
       "<Figure size 432x288 with 1 Axes>"
      ]
     },
     "metadata": {
      "needs_background": "light"
     },
     "output_type": "display_data"
    }
   ],
   "source": [
    "ref.groupby(['Year','month']).CustomerID.count().plot(kind='bar',title='total number of customers ID')\n",
    "plt.show()"
   ]
  },
  {
   "cell_type": "markdown",
   "id": "a0f4a077",
   "metadata": {},
   "source": [
    "Total number of Quantity"
   ]
  },
  {
   "cell_type": "code",
   "execution_count": 20,
   "id": "ba63ebc8",
   "metadata": {},
   "outputs": [
    {
     "data": {
      "image/png": "[encoded data removed]",
      "text/plain": [
       "<Figure size 432x288 with 1 Axes>"
      ]
     },
     "metadata": {
      "needs_background": "light"
     },
     "output_type": "display_data"
    }
   ],
   "source": [
    "ref.groupby(['Year','month']).Quantity.sum().plot(kind='bar',title='total number of Quantity')\n",
    "plt.show()"
   ]
  },
  {
   "cell_type": "markdown",
   "id": "4f010b4f",
   "metadata": {},
   "source": [
    "Total amount of sales (top 10 Country)"
   ]
  },
  {
   "cell_type": "code",
   "execution_count": 21,
   "id": "f0315215",
   "metadata": {},
   "outputs": [
    {
     "data": {
      "image/png": "[encoded data removed]",
      "text/plain": [
       "<Figure size 432x288 with 1 Axes>"
      ]
     },
     "metadata": {
      "needs_background": "light"
     },
     "output_type": "display_data"
    }
   ],
   "source": [
    "country_sales  = pd.DataFrame(ref.groupby(['Country'])['Quantity'].sum().sort_values(ascending=False).reset_index()[:10])\n",
    "sns.barplot(x = country_sales['Country'],y = country_sales['Quantity'])\n",
    "plt.xticks(rotation=45)\n",
    "plt.show()"
   ]
  },
  {
   "cell_type": "markdown",
   "id": "7bbe77d8",
   "metadata": {},
   "source": [
    "Total amount of sales (lowest 5 Country)"
   ]
  },
  {
   "cell_type": "code",
   "execution_count": 22,
   "id": "56f77953",
   "metadata": {},
   "outputs": [
    {
     "data": {
      "image/png": "[encoded data removed]",
      "text/plain": [
       "<Figure size 432x288 with 1 Axes>"
      ]
     },
     "metadata": {
      "needs_background": "light"
     },
     "output_type": "display_data"
    }
   ],
   "source": [
    "lastcountry_sales  = pd.DataFrame(ref.groupby(['Country'])['Quantity'].sum().sort_values(ascending=False).reset_index()[33:])\n",
    "sns.barplot(x = lastcountry_sales['Country'],y = lastcountry_sales['Quantity'])\n",
    "plt.xticks(rotation=45)\n",
    "plt.show()"
   ]
  },
  {
   "cell_type": "markdown",
   "id": "f986f515",
   "metadata": {},
   "source": [
    "Revenue per year"
   ]
  },
  {
   "cell_type": "code",
   "execution_count": 23,
   "id": "46246942",
   "metadata": {},
   "outputs": [
    {
     "data": {
      "image/png": "[encoded data removed]",
      "text/plain": [
       "<Figure size 432x288 with 1 Axes>"
      ]
     },
     "metadata": {
      "needs_background": "light"
     },
     "output_type": "display_data"
    }
   ],
   "source": [
    "ref.groupby(['Year']).totalprice.sum().plot(kind='bar')\n",
    "plt.show()"
   ]
  },
  {
   "cell_type": "markdown",
   "id": "4c1bc181",
   "metadata": {},
   "source": [
    "Total sales per month"
   ]
  },
  {
   "cell_type": "code",
   "execution_count": 24,
   "id": "b8f3fe47",
   "metadata": {},
   "outputs": [
    {
     "name": "stdout",
     "output_type": "stream",
     "text": [
      "Year  month\n",
      "2010  12        823746.140\n",
      "2011  1         691364.560\n",
      "      2         523631.890\n",
      "      3         717639.360\n",
      "      4         537808.621\n",
      "      5         770536.020\n",
      "      6         761739.900\n",
      "      7         719221.191\n",
      "      8         759138.380\n",
      "      9        1058590.172\n",
      "      10       1154979.300\n",
      "      11       1509496.330\n",
      "      12        638792.680\n",
      "Name: totalprice, dtype: float64\n"
     ]
    },
    {
     "data": {
      "image/png": "[encoded data removed]",
      "text/plain": [
       "<Figure size 432x288 with 1 Axes>"
      ]
     },
     "metadata": {
      "needs_background": "light"
     },
     "output_type": "display_data"
    }
   ],
   "source": [
    "totalsales = ref.groupby(['Year','month']).totalprice.sum()\n",
    "print(totalsales)\n",
    "totalsales.plot(kind='bar')\n",
    "plt.show()"
   ]
  },
  {
   "cell_type": "markdown",
   "id": "2c8cbdb6",
   "metadata": {},
   "source": [
    "# Choosing the Algorithm for the Project"
   ]
  },
  {
   "cell_type": "markdown",
   "id": "677625b5",
   "metadata": {},
   "source": [
    "Here we will adopt K means clustering technique. The goal of K means is to group data points into distinct non-overlapping subgroups. We will divide the whole data of customers on the basis of RMF i.e. Recency, Monetary and Frequency and we will also visualize these groups on the basis of these 3 terms. This segmentation will help us to get a better understanding of customers which in turn could be used to increase the revenue of the company."
   ]
  },
  {
   "cell_type": "markdown",
   "id": "1b502680",
   "metadata": {},
   "source": [
    "Recency:- It represents how recently a customer purchased a product.\n",
    "\n",
    "Frequency:- It represents how often a customer purchased a product. The more frequent will be the better score.\n",
    "\n",
    "Monetary:- It represents how much an customer spends"
   ]
  },
  {
   "cell_type": "code",
   "execution_count": 25,
   "id": "4227bc0d",
   "metadata": {},
   "outputs": [],
   "source": [
    "#Calculate our Monetary Value"
   ]
  },
  {
   "cell_type": "code",
   "execution_count": 26,
   "id": "38389f23",
   "metadata": {},
   "outputs": [],
   "source": [
    "df[\"Sale\"] =df.Quantity * df.UnitPrice"
   ]
  },
  {
   "cell_type": "code",
   "execution_count": 27,
   "id": "6e3a938a",
   "metadata": {},
   "outputs": [
    {
     "data": {
      "text/html": [
       "<div>\n",
       "<style scoped>\n",
       "    .dataframe tbody tr th:only-of-type {\n",
       "        vertical-align: middle;\n",
       "    }\n",
       "\n",
       "    .dataframe tbody tr th {\n",
       "        vertical-align: top;\n",
       "    }\n",
       "\n",
       "    .dataframe thead th {\n",
       "        text-align: right;\n",
       "    }\n",
       "</style>\n",
       "<table border=\"1\" class=\"dataframe\">\n",
       "  <thead>\n",
       "    <tr style=\"text-align: right;\">\n",
       "      <th></th>\n",
       "      <th>CustomerID</th>\n",
       "      <th>InvoiceNo</th>\n",
       "      <th>StockCode</th>\n",
       "      <th>Description</th>\n",
       "      <th>Quantity</th>\n",
       "      <th>UnitPrice</th>\n",
       "      <th>InvoiceDate</th>\n",
       "      <th>Country</th>\n",
       "      <th>Sale</th>\n",
       "    </tr>\n",
       "  </thead>\n",
       "  <tbody>\n",
       "    <tr>\n",
       "      <th>0</th>\n",
       "      <td>17850.0</td>\n",
       "      <td>536365</td>\n",
       "      <td>85123A</td>\n",
       "      <td>WHITE HANGING HEART T-LIGHT HOLDER</td>\n",
       "      <td>6</td>\n",
       "      <td>2.55</td>\n",
       "      <td>2010-12-01 08:26:00</td>\n",
       "      <td>United Kingdom</td>\n",
       "      <td>15.30</td>\n",
       "    </tr>\n",
       "    <tr>\n",
       "      <th>1</th>\n",
       "      <td>17850.0</td>\n",
       "      <td>536365</td>\n",
       "      <td>71053</td>\n",
       "      <td>WHITE METAL LANTERN</td>\n",
       "      <td>6</td>\n",
       "      <td>3.39</td>\n",
       "      <td>2010-12-01 08:26:00</td>\n",
       "      <td>United Kingdom</td>\n",
       "      <td>20.34</td>\n",
       "    </tr>\n",
       "    <tr>\n",
       "      <th>2</th>\n",
       "      <td>17850.0</td>\n",
       "      <td>536365</td>\n",
       "      <td>84406B</td>\n",
       "      <td>CREAM CUPID HEARTS COAT HANGER</td>\n",
       "      <td>8</td>\n",
       "      <td>2.75</td>\n",
       "      <td>2010-12-01 08:26:00</td>\n",
       "      <td>United Kingdom</td>\n",
       "      <td>22.00</td>\n",
       "    </tr>\n",
       "    <tr>\n",
       "      <th>3</th>\n",
       "      <td>17850.0</td>\n",
       "      <td>536365</td>\n",
       "      <td>84029G</td>\n",
       "      <td>KNITTED UNION FLAG HOT WATER BOTTLE</td>\n",
       "      <td>6</td>\n",
       "      <td>3.39</td>\n",
       "      <td>2010-12-01 08:26:00</td>\n",
       "      <td>United Kingdom</td>\n",
       "      <td>20.34</td>\n",
       "    </tr>\n",
       "    <tr>\n",
       "      <th>4</th>\n",
       "      <td>17850.0</td>\n",
       "      <td>536365</td>\n",
       "      <td>84029E</td>\n",
       "      <td>RED WOOLLY HOTTIE WHITE HEART.</td>\n",
       "      <td>6</td>\n",
       "      <td>3.39</td>\n",
       "      <td>2010-12-01 08:26:00</td>\n",
       "      <td>United Kingdom</td>\n",
       "      <td>20.34</td>\n",
       "    </tr>\n",
       "  </tbody>\n",
       "</table>\n",
       "</div>"
      ],
      "text/plain": [
       "  CustomerID InvoiceNo StockCode                          Description  \\\n",
       "0    17850.0    536365    85123A   WHITE HANGING HEART T-LIGHT HOLDER   \n",
       "1    17850.0    536365     71053                  WHITE METAL LANTERN   \n",
       "2    17850.0    536365    84406B       CREAM CUPID HEARTS COAT HANGER   \n",
       "3    17850.0    536365    84029G  KNITTED UNION FLAG HOT WATER BOTTLE   \n",
       "4    17850.0    536365    84029E       RED WOOLLY HOTTIE WHITE HEART.   \n",
       "\n",
       "   Quantity  UnitPrice         InvoiceDate         Country   Sale  \n",
       "0         6       2.55 2010-12-01 08:26:00  United Kingdom  15.30  \n",
       "1         6       3.39 2010-12-01 08:26:00  United Kingdom  20.34  \n",
       "2         8       2.75 2010-12-01 08:26:00  United Kingdom  22.00  \n",
       "3         6       3.39 2010-12-01 08:26:00  United Kingdom  20.34  \n",
       "4         6       3.39 2010-12-01 08:26:00  United Kingdom  20.34  "
      ]
     },
     "execution_count": 27,
     "metadata": {},
     "output_type": "execute_result"
    }
   ],
   "source": [
    "df.head()"
   ]
  },
  {
   "cell_type": "code",
   "execution_count": 28,
   "id": "08b7a6ee",
   "metadata": {},
   "outputs": [],
   "source": [
    "monetary =df.groupby(\"CustomerID\").Sale.sum()"
   ]
  },
  {
   "cell_type": "markdown",
   "id": "b3edfcfd",
   "metadata": {},
   "source": [
    "#resetting our index,our monetary has multiindex so we are removing it"
   ]
  },
  {
   "cell_type": "code",
   "execution_count": 29,
   "id": "4c3d8ead",
   "metadata": {},
   "outputs": [],
   "source": [
    "monetary = monetary.reset_index()"
   ]
  },
  {
   "cell_type": "code",
   "execution_count": 30,
   "id": "f76d862b",
   "metadata": {},
   "outputs": [
    {
     "data": {
      "text/html": [
       "<div>\n",
       "<style scoped>\n",
       "    .dataframe tbody tr th:only-of-type {\n",
       "        vertical-align: middle;\n",
       "    }\n",
       "\n",
       "    .dataframe tbody tr th {\n",
       "        vertical-align: top;\n",
       "    }\n",
       "\n",
       "    .dataframe thead th {\n",
       "        text-align: right;\n",
       "    }\n",
       "</style>\n",
       "<table border=\"1\" class=\"dataframe\">\n",
       "  <thead>\n",
       "    <tr style=\"text-align: right;\">\n",
       "      <th></th>\n",
       "      <th>CustomerID</th>\n",
       "      <th>Sale</th>\n",
       "    </tr>\n",
       "  </thead>\n",
       "  <tbody>\n",
       "    <tr>\n",
       "      <th>0</th>\n",
       "      <td>12346.0</td>\n",
       "      <td>77183.60</td>\n",
       "    </tr>\n",
       "    <tr>\n",
       "      <th>1</th>\n",
       "      <td>12347.0</td>\n",
       "      <td>4310.00</td>\n",
       "    </tr>\n",
       "    <tr>\n",
       "      <th>2</th>\n",
       "      <td>12348.0</td>\n",
       "      <td>1797.24</td>\n",
       "    </tr>\n",
       "    <tr>\n",
       "      <th>3</th>\n",
       "      <td>12349.0</td>\n",
       "      <td>1757.55</td>\n",
       "    </tr>\n",
       "    <tr>\n",
       "      <th>4</th>\n",
       "      <td>12350.0</td>\n",
       "      <td>334.40</td>\n",
       "    </tr>\n",
       "  </tbody>\n",
       "</table>\n",
       "</div>"
      ],
      "text/plain": [
       "  CustomerID      Sale\n",
       "0    12346.0  77183.60\n",
       "1    12347.0   4310.00\n",
       "2    12348.0   1797.24\n",
       "3    12349.0   1757.55\n",
       "4    12350.0    334.40"
      ]
     },
     "execution_count": 30,
     "metadata": {},
     "output_type": "execute_result"
    }
   ],
   "source": [
    "monetary.head()"
   ]
  },
  {
   "cell_type": "code",
   "execution_count": 31,
   "id": "8a138ea3",
   "metadata": {},
   "outputs": [],
   "source": [
    "# Calculate frequency"
   ]
  },
  {
   "cell_type": "code",
   "execution_count": 32,
   "id": "03053026",
   "metadata": {},
   "outputs": [],
   "source": [
    "frequency=df.groupby(\"CustomerID\").InvoiceNo.count()"
   ]
  },
  {
   "cell_type": "code",
   "execution_count": 33,
   "id": "c7e4d8ef",
   "metadata": {},
   "outputs": [],
   "source": [
    "frequency = frequency.reset_index()\n",
    "#resetting our index,our frequency has multiindex so we are removing it"
   ]
  },
  {
   "cell_type": "code",
   "execution_count": 34,
   "id": "eae2ffe0",
   "metadata": {},
   "outputs": [
    {
     "data": {
      "text/html": [
       "<div>\n",
       "<style scoped>\n",
       "    .dataframe tbody tr th:only-of-type {\n",
       "        vertical-align: middle;\n",
       "    }\n",
       "\n",
       "    .dataframe tbody tr th {\n",
       "        vertical-align: top;\n",
       "    }\n",
       "\n",
       "    .dataframe thead th {\n",
       "        text-align: right;\n",
       "    }\n",
       "</style>\n",
       "<table border=\"1\" class=\"dataframe\">\n",
       "  <thead>\n",
       "    <tr style=\"text-align: right;\">\n",
       "      <th></th>\n",
       "      <th>CustomerID</th>\n",
       "      <th>InvoiceNo</th>\n",
       "    </tr>\n",
       "  </thead>\n",
       "  <tbody>\n",
       "    <tr>\n",
       "      <th>0</th>\n",
       "      <td>12346.0</td>\n",
       "      <td>1</td>\n",
       "    </tr>\n",
       "    <tr>\n",
       "      <th>1</th>\n",
       "      <td>12347.0</td>\n",
       "      <td>182</td>\n",
       "    </tr>\n",
       "    <tr>\n",
       "      <th>2</th>\n",
       "      <td>12348.0</td>\n",
       "      <td>31</td>\n",
       "    </tr>\n",
       "    <tr>\n",
       "      <th>3</th>\n",
       "      <td>12349.0</td>\n",
       "      <td>73</td>\n",
       "    </tr>\n",
       "    <tr>\n",
       "      <th>4</th>\n",
       "      <td>12350.0</td>\n",
       "      <td>17</td>\n",
       "    </tr>\n",
       "  </tbody>\n",
       "</table>\n",
       "</div>"
      ],
      "text/plain": [
       "  CustomerID  InvoiceNo\n",
       "0    12346.0          1\n",
       "1    12347.0        182\n",
       "2    12348.0         31\n",
       "3    12349.0         73\n",
       "4    12350.0         17"
      ]
     },
     "execution_count": 34,
     "metadata": {},
     "output_type": "execute_result"
    }
   ],
   "source": [
    "frequency.head()"
   ]
  },
  {
   "cell_type": "code",
   "execution_count": 35,
   "id": "860d5b0d",
   "metadata": {},
   "outputs": [],
   "source": [
    "# Calculate Recency"
   ]
  },
  {
   "cell_type": "code",
   "execution_count": 36,
   "id": "9a1d9180",
   "metadata": {},
   "outputs": [],
   "source": [
    "LastDate=max(df.InvoiceDate) #calculating the last date of InvoiceDate"
   ]
  },
  {
   "cell_type": "code",
   "execution_count": 37,
   "id": "431152b2",
   "metadata": {},
   "outputs": [],
   "source": [
    "LastDate = LastDate + pd.DateOffset(days=1)\n",
    "#adding one to LastDate"
   ]
  },
  {
   "cell_type": "code",
   "execution_count": 38,
   "id": "6f2d0c23",
   "metadata": {},
   "outputs": [
    {
     "data": {
      "text/plain": [
       "Timestamp('2011-12-10 12:50:00')"
      ]
     },
     "execution_count": 38,
     "metadata": {},
     "output_type": "execute_result"
    }
   ],
   "source": [
    "LastDate"
   ]
  },
  {
   "cell_type": "code",
   "execution_count": 39,
   "id": "7f24dc68",
   "metadata": {},
   "outputs": [],
   "source": [
    "df[\"Diff\"] = LastDate - df.InvoiceDate\n",
    "\n",
    "#Diff is the difference between our Lastate and InvoiceData"
   ]
  },
  {
   "cell_type": "code",
   "execution_count": 40,
   "id": "0c698cf1",
   "metadata": {},
   "outputs": [
    {
     "data": {
      "text/html": [
       "<div>\n",
       "<style scoped>\n",
       "    .dataframe tbody tr th:only-of-type {\n",
       "        vertical-align: middle;\n",
       "    }\n",
       "\n",
       "    .dataframe tbody tr th {\n",
       "        vertical-align: top;\n",
       "    }\n",
       "\n",
       "    .dataframe thead th {\n",
       "        text-align: right;\n",
       "    }\n",
       "</style>\n",
       "<table border=\"1\" class=\"dataframe\">\n",
       "  <thead>\n",
       "    <tr style=\"text-align: right;\">\n",
       "      <th></th>\n",
       "      <th>CustomerID</th>\n",
       "      <th>Diff</th>\n",
       "    </tr>\n",
       "  </thead>\n",
       "  <tbody>\n",
       "    <tr>\n",
       "      <th>0</th>\n",
       "      <td>12346.0</td>\n",
       "      <td>326 days 02:49:00</td>\n",
       "    </tr>\n",
       "    <tr>\n",
       "      <th>1</th>\n",
       "      <td>12347.0</td>\n",
       "      <td>2 days 20:58:00</td>\n",
       "    </tr>\n",
       "    <tr>\n",
       "      <th>2</th>\n",
       "      <td>12348.0</td>\n",
       "      <td>75 days 23:37:00</td>\n",
       "    </tr>\n",
       "    <tr>\n",
       "      <th>3</th>\n",
       "      <td>12349.0</td>\n",
       "      <td>19 days 02:59:00</td>\n",
       "    </tr>\n",
       "    <tr>\n",
       "      <th>4</th>\n",
       "      <td>12350.0</td>\n",
       "      <td>310 days 20:49:00</td>\n",
       "    </tr>\n",
       "  </tbody>\n",
       "</table>\n",
       "</div>"
      ],
      "text/plain": [
       "  CustomerID              Diff\n",
       "0    12346.0 326 days 02:49:00\n",
       "1    12347.0   2 days 20:58:00\n",
       "2    12348.0  75 days 23:37:00\n",
       "3    12349.0  19 days 02:59:00\n",
       "4    12350.0 310 days 20:49:00"
      ]
     },
     "execution_count": 40,
     "metadata": {},
     "output_type": "execute_result"
    }
   ],
   "source": [
    "recency = df.groupby(\"CustomerID\").Diff.min()\n",
    "\"\"\"\n",
    "here we get our recency value using group by \n",
    "\"\"\"\n",
    "recency = recency.reset_index()\n",
    "recency.head()"
   ]
  },
  {
   "cell_type": "code",
   "execution_count": 41,
   "id": "9cb1ee0d",
   "metadata": {},
   "outputs": [],
   "source": [
    "#creating a combined df for combined to Recency, monetary and Frequency"
   ]
  },
  {
   "cell_type": "code",
   "execution_count": 42,
   "id": "0cd877fa",
   "metadata": {},
   "outputs": [
    {
     "data": {
      "text/html": [
       "<div>\n",
       "<style scoped>\n",
       "    .dataframe tbody tr th:only-of-type {\n",
       "        vertical-align: middle;\n",
       "    }\n",
       "\n",
       "    .dataframe tbody tr th {\n",
       "        vertical-align: top;\n",
       "    }\n",
       "\n",
       "    .dataframe thead th {\n",
       "        text-align: right;\n",
       "    }\n",
       "</style>\n",
       "<table border=\"1\" class=\"dataframe\">\n",
       "  <thead>\n",
       "    <tr style=\"text-align: right;\">\n",
       "      <th></th>\n",
       "      <th>Monetary</th>\n",
       "      <th>Frequence</th>\n",
       "      <th>Recency</th>\n",
       "    </tr>\n",
       "  </thead>\n",
       "  <tbody>\n",
       "    <tr>\n",
       "      <th>0</th>\n",
       "      <td>77183.60</td>\n",
       "      <td>1</td>\n",
       "      <td>326</td>\n",
       "    </tr>\n",
       "    <tr>\n",
       "      <th>1</th>\n",
       "      <td>4310.00</td>\n",
       "      <td>182</td>\n",
       "      <td>2</td>\n",
       "    </tr>\n",
       "    <tr>\n",
       "      <th>2</th>\n",
       "      <td>1797.24</td>\n",
       "      <td>31</td>\n",
       "      <td>75</td>\n",
       "    </tr>\n",
       "    <tr>\n",
       "      <th>3</th>\n",
       "      <td>1757.55</td>\n",
       "      <td>73</td>\n",
       "      <td>19</td>\n",
       "    </tr>\n",
       "    <tr>\n",
       "      <th>4</th>\n",
       "      <td>334.40</td>\n",
       "      <td>17</td>\n",
       "      <td>310</td>\n",
       "    </tr>\n",
       "    <tr>\n",
       "      <th>...</th>\n",
       "      <td>...</td>\n",
       "      <td>...</td>\n",
       "      <td>...</td>\n",
       "    </tr>\n",
       "    <tr>\n",
       "      <th>4334</th>\n",
       "      <td>80.82</td>\n",
       "      <td>7</td>\n",
       "      <td>181</td>\n",
       "    </tr>\n",
       "    <tr>\n",
       "      <th>4335</th>\n",
       "      <td>178.05</td>\n",
       "      <td>12</td>\n",
       "      <td>8</td>\n",
       "    </tr>\n",
       "    <tr>\n",
       "      <th>4336</th>\n",
       "      <td>2094.88</td>\n",
       "      <td>756</td>\n",
       "      <td>4</td>\n",
       "    </tr>\n",
       "    <tr>\n",
       "      <th>4337</th>\n",
       "      <td>1837.28</td>\n",
       "      <td>70</td>\n",
       "      <td>43</td>\n",
       "    </tr>\n",
       "    <tr>\n",
       "      <th>4338</th>\n",
       "      <td>1755276.64</td>\n",
       "      <td>132220</td>\n",
       "      <td>1</td>\n",
       "    </tr>\n",
       "  </tbody>\n",
       "</table>\n",
       "<p>4339 rows × 3 columns</p>\n",
       "</div>"
      ],
      "text/plain": [
       "        Monetary  Frequence  Recency\n",
       "0       77183.60          1      326\n",
       "1        4310.00        182        2\n",
       "2        1797.24         31       75\n",
       "3        1757.55         73       19\n",
       "4         334.40         17      310\n",
       "...          ...        ...      ...\n",
       "4334       80.82          7      181\n",
       "4335      178.05         12        8\n",
       "4336     2094.88        756        4\n",
       "4337     1837.28         70       43\n",
       "4338  1755276.64     132220        1\n",
       "\n",
       "[4339 rows x 3 columns]"
      ]
     },
     "execution_count": 42,
     "metadata": {},
     "output_type": "execute_result"
    }
   ],
   "source": [
    "#comnining all dataframes into one\n",
    "rmf = monetary.merge(frequency, on = \"CustomerID\")\n",
    "rmf = rmf.merge(recency, on = \"CustomerID\")\n",
    "rmf.columns = [\"CustomerID\", \"Monetary\", \"Frequence\", \"Recency\"]\n",
    "rmf\n",
    "RMF1 = rmf.drop(\"CustomerID\",axis =1) \n",
    "#dropping customer id and storing it into RMF1\n",
    "RMF1.Recency = RMF1.Recency.dt.days\n",
    "RMF1"
   ]
  },
  {
   "cell_type": "code",
   "execution_count": 43,
   "id": "b3aae321",
   "metadata": {},
   "outputs": [],
   "source": [
    "from sklearn.cluster import KMeans"
   ]
  },
  {
   "cell_type": "code",
   "execution_count": 44,
   "id": "111013b7",
   "metadata": {},
   "outputs": [],
   "source": [
    "ssd = []\n",
    "for k in range(1,20):\n",
    "    km = KMeans(n_clusters=k)\n",
    "    km.fit(RMF1)\n",
    "    ssd.append(km.inertia_)"
   ]
  },
  {
   "cell_type": "code",
   "execution_count": 45,
   "id": "cd3c6af4",
   "metadata": {
    "scrolled": true
   },
   "outputs": [
    {
     "data": {
      "image/png": "[encoded data removed]",
      "text/plain": [
       "<Figure size 432x288 with 1 Axes>"
      ]
     },
     "metadata": {
      "needs_background": "light"
     },
     "output_type": "display_data"
    }
   ],
   "source": [
    "plt.plot(np.arange(1,20), ssd,color=\"darkblue\")\n",
    "plt.scatter(np.arange(1,20), ssd,color=\"red\")\n",
    "plt.show()"
   ]
  },
  {
   "cell_type": "markdown",
   "id": "a36bcbb5",
   "metadata": {},
   "source": [
    "In the KMean algo we are using elbow method to find the no. of clustering groups. From above 5 is ideal value for k"
   ]
  },
  {
   "cell_type": "code",
   "execution_count": 46,
   "id": "c68a9c53",
   "metadata": {},
   "outputs": [],
   "source": [
    "model = KMeans(n_clusters=5)\n",
    "ClusterID = model.fit_predict(RMF1)"
   ]
  },
  {
   "cell_type": "code",
   "execution_count": 47,
   "id": "32707966",
   "metadata": {},
   "outputs": [
    {
     "data": {
      "text/html": [
       "<div>\n",
       "<style scoped>\n",
       "    .dataframe tbody tr th:only-of-type {\n",
       "        vertical-align: middle;\n",
       "    }\n",
       "\n",
       "    .dataframe tbody tr th {\n",
       "        vertical-align: top;\n",
       "    }\n",
       "\n",
       "    .dataframe thead th {\n",
       "        text-align: right;\n",
       "    }\n",
       "</style>\n",
       "<table border=\"1\" class=\"dataframe\">\n",
       "  <thead>\n",
       "    <tr style=\"text-align: right;\">\n",
       "      <th></th>\n",
       "      <th>Monetary</th>\n",
       "      <th>Frequence</th>\n",
       "      <th>Recency</th>\n",
       "      <th>ClusterID</th>\n",
       "    </tr>\n",
       "  </thead>\n",
       "  <tbody>\n",
       "    <tr>\n",
       "      <th>0</th>\n",
       "      <td>77183.60</td>\n",
       "      <td>1</td>\n",
       "      <td>326</td>\n",
       "      <td>3</td>\n",
       "    </tr>\n",
       "    <tr>\n",
       "      <th>1</th>\n",
       "      <td>4310.00</td>\n",
       "      <td>182</td>\n",
       "      <td>2</td>\n",
       "      <td>0</td>\n",
       "    </tr>\n",
       "    <tr>\n",
       "      <th>2</th>\n",
       "      <td>1797.24</td>\n",
       "      <td>31</td>\n",
       "      <td>75</td>\n",
       "      <td>0</td>\n",
       "    </tr>\n",
       "    <tr>\n",
       "      <th>3</th>\n",
       "      <td>1757.55</td>\n",
       "      <td>73</td>\n",
       "      <td>19</td>\n",
       "      <td>0</td>\n",
       "    </tr>\n",
       "    <tr>\n",
       "      <th>4</th>\n",
       "      <td>334.40</td>\n",
       "      <td>17</td>\n",
       "      <td>310</td>\n",
       "      <td>0</td>\n",
       "    </tr>\n",
       "    <tr>\n",
       "      <th>...</th>\n",
       "      <td>...</td>\n",
       "      <td>...</td>\n",
       "      <td>...</td>\n",
       "      <td>...</td>\n",
       "    </tr>\n",
       "    <tr>\n",
       "      <th>4334</th>\n",
       "      <td>80.82</td>\n",
       "      <td>7</td>\n",
       "      <td>181</td>\n",
       "      <td>0</td>\n",
       "    </tr>\n",
       "    <tr>\n",
       "      <th>4335</th>\n",
       "      <td>178.05</td>\n",
       "      <td>12</td>\n",
       "      <td>8</td>\n",
       "      <td>0</td>\n",
       "    </tr>\n",
       "    <tr>\n",
       "      <th>4336</th>\n",
       "      <td>2094.88</td>\n",
       "      <td>756</td>\n",
       "      <td>4</td>\n",
       "      <td>0</td>\n",
       "    </tr>\n",
       "    <tr>\n",
       "      <th>4337</th>\n",
       "      <td>1837.28</td>\n",
       "      <td>70</td>\n",
       "      <td>43</td>\n",
       "      <td>0</td>\n",
       "    </tr>\n",
       "    <tr>\n",
       "      <th>4338</th>\n",
       "      <td>1755276.64</td>\n",
       "      <td>132220</td>\n",
       "      <td>1</td>\n",
       "      <td>1</td>\n",
       "    </tr>\n",
       "  </tbody>\n",
       "</table>\n",
       "<p>4339 rows × 4 columns</p>\n",
       "</div>"
      ],
      "text/plain": [
       "        Monetary  Frequence  Recency  ClusterID\n",
       "0       77183.60          1      326          3\n",
       "1        4310.00        182        2          0\n",
       "2        1797.24         31       75          0\n",
       "3        1757.55         73       19          0\n",
       "4         334.40         17      310          0\n",
       "...          ...        ...      ...        ...\n",
       "4334       80.82          7      181          0\n",
       "4335      178.05         12        8          0\n",
       "4336     2094.88        756        4          0\n",
       "4337     1837.28         70       43          0\n",
       "4338  1755276.64     132220        1          1\n",
       "\n",
       "[4339 rows x 4 columns]"
      ]
     },
     "execution_count": 47,
     "metadata": {},
     "output_type": "execute_result"
    }
   ],
   "source": [
    "ClusterID\n",
    "RMF1[\"ClusterID\"] = ClusterID\n",
    "RMF1"
   ]
  },
  {
   "cell_type": "code",
   "execution_count": 48,
   "id": "d90b249b",
   "metadata": {},
   "outputs": [
    {
     "data": {
      "text/plain": [
       "<AxesSubplot:ylabel='Recency'>"
      ]
     },
     "execution_count": 48,
     "metadata": {},
     "output_type": "execute_result"
    },
    {
     "data": {
      "image/png": "[encoded data removed]",
      "text/plain": [
       "<Figure size 1440x576 with 3 Axes>"
      ]
     },
     "metadata": {
      "needs_background": "light"
     },
     "output_type": "display_data"
    }
   ],
   "source": [
    "km_cluster_sale =RMF1.groupby(\"ClusterID\").Monetary.mean()\n",
    "km_cluster_Recency =RMF1.groupby(\"ClusterID\").Recency.mean()\n",
    "km_cluster_Frequence =RMF1.groupby(\"ClusterID\").Frequence.mean()\n",
    "km_cluster_sale\n",
    "\n",
    "import seaborn as sns\n",
    "#first we are plotting bar chart \n",
    "fig, axs = plt.subplots(1,3, figsize = (20, 8))\n",
    "sns.barplot(x = [0,1,2,3,4],  y = km_cluster_sale , ax = axs[0])\n",
    "sns.barplot(x = [0,1,2,3,4],  y = km_cluster_Frequence , ax = axs[1])\n",
    "sns.barplot(x = [0,1,2,3,4],  y = km_cluster_Recency , ax = axs[2])"
   ]
  },
  {
   "cell_type": "code",
   "execution_count": 49,
   "id": "e8784358",
   "metadata": {},
   "outputs": [
    {
     "data": {
      "image/png": "[encoded data removed]",
      "text/plain": [
       "<Figure size 1296x360 with 6 Axes>"
      ]
     },
     "metadata": {
      "needs_background": "light"
     },
     "output_type": "display_data"
    }
   ],
   "source": [
    "#now we are plotting pie-chart\n",
    "fig,axis = plt.subplots(1,3, figsize =(18,5))\n",
    "ax1 =fig.add_subplot(1,3,1)\n",
    "plt.title(\"Monetary Mean\")\n",
    "ax1.pie(km_cluster_sale, labels =[0,1,2,3,4])\n",
    "ax1 =fig.add_subplot(1,3,2)\n",
    "plt.title(\"Frequency Mean\")\n",
    "ax1.pie(km_cluster_Frequence, labels =[0,1,2,3,4])\n",
    "ax1 =fig.add_subplot(1,3,3)\n",
    "plt.title(\"Recency Mean\")\n",
    "ax1.pie(km_cluster_Recency, labels =[0,1,2,3,4])\n",
    "\n",
    "#ax1.axis(\"off\")\n",
    "plt.show()"
   ]
  },
  {
   "cell_type": "code",
   "execution_count": null,
   "id": "e53233ad",
   "metadata": {},
   "outputs": [],
   "source": [
    "##saving the model"
   ]
  },
  {
   "cell_type": "code",
   "execution_count": 50,
   "id": "c242f41a",
   "metadata": {},
   "outputs": [],
   "source": [
    "import pickle\n",
    "# save the model to disk\n",
    "filename = 'finalized_OnlineRetail_model.sav'\n",
    "pickle.dump(model, open(filename, 'wb'))"
   ]
  },
  {
   "cell_type": "code",
   "execution_count": null,
   "id": "9ea094a8",
   "metadata": {},
   "outputs": [],
   "source": []
  },
  {
   "cell_type": "code",
   "execution_count": null,
   "id": "9607a760",
   "metadata": {},
   "outputs": [],
   "source": []
  },
  {
   "cell_type": "code",
   "execution_count": null,
   "id": "4345de75",
   "metadata": {},
   "outputs": [],
   "source": []
  },
  {
   "cell_type": "markdown",
   "id": "b1123e5f",
   "metadata": {},
   "source": [
    "# Inferences "
   ]
  },
  {
   "cell_type": "markdown",
   "id": "14d2a4d4",
   "metadata": {},
   "source": [
    "On basis of Preprocessing Visualization\n",
    "1. This company is more into online retail across 38 countries.\n",
    "2. We should continue cooperation with EIRE, Germany, France, Australia and change relationships with Saudi Arabia\n",
    "3. The best sales month in November 2011\n",
    "4. We can concentrate on improving the sales for the other 8 months\n",
    "5. We see that september to december we have very high sales so we can concentrate on improving the sales for the other 8 months\n",
    "\n",
    "On basis of Segmentation after adoption of Kmeans\n",
    "From the above pie chart we can easily understand our 5 groups according to Recency mean,Frequency mean and Monetary mean.\n",
    "\n",
    "Group 1 is the group of customer who spends maximum amount of money and also has a good frequency and low recency rate.\n",
    "Group 4 are the customers whose frequency rate is maximum and monetary value is also good and recency rate is also quite good, whereas Group 0 is the group of customers who has a very high recency rate means they have not purchased anything from the past."
   ]
  },
  {
   "cell_type": "markdown",
   "id": "80d67030",
   "metadata": {},
   "source": [
    "https://towardsdatascience.com/customer-segmentation-unsupervised-machine-learning-algorithms-in-python-3ae4d6cfd41d"
   ]
  },
  {
   "cell_type": "code",
   "execution_count": null,
   "id": "bd526f7d",
   "metadata": {},
   "outputs": [],
   "source": []
  }
 ],
 "metadata": {
  "kernelspec": {
   "display_name": "Python 3 (ipykernel)",
   "language": "python",
   "name": "python3"
  },
  "language_info": {
   "codemirror_mode": {
    "name": "ipython",
    "version": 3
   },
   "file_extension": ".py",
   "mimetype": "text/x-python",
   "name": "python",
   "nbconvert_exporter": "python",
   "pygments_lexer": "ipython3",
   "version": "3.9.7"
  }
 },
 "nbformat": 4,
 "nbformat_minor": 5
}
